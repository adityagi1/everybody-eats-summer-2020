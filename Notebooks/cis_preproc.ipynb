{
 "cells": [
  {
   "cell_type": "code",
   "execution_count": 1,
   "metadata": {},
   "outputs": [],
   "source": [
    "import pandas as pd\n",
    "import numpy as np\n",
    "import matplotlib.pyplot as plt\n",
    "import seaborn as sns\n"
   ]
  },
  {
   "cell_type": "code",
   "execution_count": 2,
   "metadata": {},
   "outputs": [
    {
     "name": "stderr",
     "output_type": "stream",
     "text": [
      "C:\\Anaconda3\\envs\\datascience_env\\lib\\site-packages\\IPython\\core\\interactiveshell.py:3062: DtypeWarning: Columns (97,157,158,159,171,173) have mixed types.Specify dtype option on import or set low_memory=False.\n",
      "  has_raised = await self.run_ast_nodes(code_ast.body, cell_name,\n",
      "C:\\Anaconda3\\envs\\datascience_env\\lib\\site-packages\\IPython\\core\\interactiveshell.py:3062: DtypeWarning: Columns (157,158,159,171,173) have mixed types.Specify dtype option on import or set low_memory=False.\n",
      "  has_raised = await self.run_ast_nodes(code_ast.body, cell_name,\n",
      "C:\\Anaconda3\\envs\\datascience_env\\lib\\site-packages\\IPython\\core\\interactiveshell.py:3062: DtypeWarning: Columns (157,158,159,173) have mixed types.Specify dtype option on import or set low_memory=False.\n",
      "  has_raised = await self.run_ast_nodes(code_ast.body, cell_name,\n"
     ]
    }
   ],
   "source": [
    "datapath1 = \"../Data/COVID Impact Survey/cis_week1.csv\"\n",
    "datapath2 = \"../Data/COVID Impact Survey/cis_week2.csv\"\n",
    "datapath3 = \"../Data/COVID Impact Survey/cis_week3.csv\"\n",
    "week1 = pd.read_csv(datapath1)\n",
    "week2 = pd.read_csv(datapath2)\n",
    "week3 = pd.read_csv(datapath3)\n",
    "\n",
    "\n",
    "week1_chi = week1[week1['P_GEO'] == '(14) Chicago-Naperville-Elgin, Illinois-Indiana-Wisconsin']\n",
    "\n",
    "week2_chi = week2[week2['P_GEO'] == '(14) Chicago-Naperville-Elgin, Illinois-Indiana-Wisconsin']\n",
    "\n",
    "week3_chi = week3[week3['P_GEO'] == '(14) Chicago-Naperville-Elgin, Illinois-Indiana-Wisconsin']\n"
   ]
  },
  {
   "cell_type": "code",
   "execution_count": 3,
   "metadata": {},
   "outputs": [],
   "source": [
    "selected_vars = [\n",
    "    'SU_ID','ECON5A_A',\n",
    "    'ECON5A_B',\n",
    "    'SOC1','SOC2A','SOC3A','SOC4A', \n",
    "    'PHYS8', \n",
    "    'ECON1','ECON2', 'ECON3','ECON4A','ECON4B',\n",
    "    'ECON6A','ECON6B','ECON6C','ECON6D','ECON6E','ECON6F','ECON6G','ECON6H','ECON6I','ECON6J','ECON6K','ECON6L',\n",
    "    'PHYS9A','PHYS9B','PHYS9C','PHYS9D','PHYS9E','PHYS9F','PHYS9G','PHYS9H','PHYS5','PHYS6',\n",
    "    'AGE7',\n",
    "    'GENDER',\n",
    "    'RACETH',\n",
    "    'HHINCOME',\n",
    "    'EDUCATION',\n",
    "    'HHSIZE1','HH01S','HH25S','HH612S','HH1317S','HH18OVS',\n",
    "    'P_DENSE']\n",
    "\n",
    "NONRESPONSES = [\n",
    "    \"(998) SKIPPED ON WEB\",\n",
    "    \"(777) DON'T KNOW\",\n",
    "    \"(98) SKIPPED ON WEB\",\n",
    "    \"(77) DON'T KNOW\"\n",
    "]\n",
    "\n",
    "HHINC_NONRESP = [\n",
    "    \"REFUSED\",\n",
    "    \"SKIPPED ON WEB\",\n",
    "    \"DON'T KNOW\"\n",
    "]"
   ]
  },
  {
   "cell_type": "code",
   "execution_count": 4,
   "metadata": {},
   "outputs": [
    {
     "data": {
      "text/plain": [
       "(431, 47)"
      ]
     },
     "execution_count": 4,
     "metadata": {},
     "output_type": "execute_result"
    }
   ],
   "source": [
    "week1_chi = week1_chi[selected_vars]\n",
    "week1_chi.shape"
   ]
  },
  {
   "cell_type": "code",
   "execution_count": 5,
   "metadata": {},
   "outputs": [
    {
     "data": {
      "text/html": [
       "<div>\n",
       "<style scoped>\n",
       "    .dataframe tbody tr th:only-of-type {\n",
       "        vertical-align: middle;\n",
       "    }\n",
       "\n",
       "    .dataframe tbody tr th {\n",
       "        vertical-align: top;\n",
       "    }\n",
       "\n",
       "    .dataframe thead th {\n",
       "        text-align: right;\n",
       "    }\n",
       "</style>\n",
       "<table border=\"1\" class=\"dataframe\">\n",
       "  <thead>\n",
       "    <tr style=\"text-align: right;\">\n",
       "      <th></th>\n",
       "      <th>SU_ID</th>\n",
       "      <th>ECON5A_A</th>\n",
       "      <th>ECON5A_B</th>\n",
       "      <th>SOC1</th>\n",
       "      <th>SOC2A</th>\n",
       "      <th>SOC3A</th>\n",
       "      <th>SOC4A</th>\n",
       "      <th>PHYS8</th>\n",
       "      <th>ECON1</th>\n",
       "      <th>ECON2</th>\n",
       "      <th>...</th>\n",
       "      <th>RACETH</th>\n",
       "      <th>HHINCOME</th>\n",
       "      <th>EDUCATION</th>\n",
       "      <th>HHSIZE1</th>\n",
       "      <th>HH01S</th>\n",
       "      <th>HH25S</th>\n",
       "      <th>HH612S</th>\n",
       "      <th>HH1317S</th>\n",
       "      <th>HH18OVS</th>\n",
       "      <th>P_DENSE</th>\n",
       "    </tr>\n",
       "  </thead>\n",
       "  <tbody>\n",
       "    <tr>\n",
       "      <th>7</th>\n",
       "      <td>20009247</td>\n",
       "      <td>(3) Never true</td>\n",
       "      <td>(3) Never true</td>\n",
       "      <td>(3) Some</td>\n",
       "      <td>(3) A few times a month</td>\n",
       "      <td>(1) Basically every day</td>\n",
       "      <td>(2) No</td>\n",
       "      <td>(3) Good</td>\n",
       "      <td>(1) Yes, I worked for someone else for wages, ...</td>\n",
       "      <td>40</td>\n",
       "      <td>...</td>\n",
       "      <td>(1) White, non-Hispanic</td>\n",
       "      <td>$150,000 or more</td>\n",
       "      <td>(5) Bachelors degree</td>\n",
       "      <td>(2) Two persons</td>\n",
       "      <td>0</td>\n",
       "      <td>0</td>\n",
       "      <td>0</td>\n",
       "      <td>0</td>\n",
       "      <td>2</td>\n",
       "      <td>(3) Urban</td>\n",
       "    </tr>\n",
       "    <tr>\n",
       "      <th>22</th>\n",
       "      <td>20041071</td>\n",
       "      <td>(2) Sometimes true</td>\n",
       "      <td>(2) Sometimes true</td>\n",
       "      <td>(2) Most</td>\n",
       "      <td>(3) A few times a month</td>\n",
       "      <td>(1) Basically every day</td>\n",
       "      <td>(2) No</td>\n",
       "      <td>(3) Good</td>\n",
       "      <td>(1) Yes, I worked for someone else for wages, ...</td>\n",
       "      <td>45</td>\n",
       "      <td>...</td>\n",
       "      <td>(2) Black, non-Hispanic</td>\n",
       "      <td>$75,000 to under $100,000</td>\n",
       "      <td>(3) Some college, no degree</td>\n",
       "      <td>(3) Three persons</td>\n",
       "      <td>0</td>\n",
       "      <td>0</td>\n",
       "      <td>0</td>\n",
       "      <td>1</td>\n",
       "      <td>2</td>\n",
       "      <td>(3) Urban</td>\n",
       "    </tr>\n",
       "    <tr>\n",
       "      <th>34</th>\n",
       "      <td>20055590</td>\n",
       "      <td>(3) Never true</td>\n",
       "      <td>(3) Never true</td>\n",
       "      <td>(4) None</td>\n",
       "      <td>(2) A few times a week</td>\n",
       "      <td>(1) Basically every day</td>\n",
       "      <td>(2) No</td>\n",
       "      <td>(3) Good</td>\n",
       "      <td>(3) No, I did not work for pay last week.</td>\n",
       "      <td>NaN</td>\n",
       "      <td>...</td>\n",
       "      <td>(1) White, non-Hispanic</td>\n",
       "      <td>$100,000 to under $150,000</td>\n",
       "      <td>(3) Some college, no degree</td>\n",
       "      <td>(5) Five persons</td>\n",
       "      <td>0</td>\n",
       "      <td>0</td>\n",
       "      <td>0</td>\n",
       "      <td>1</td>\n",
       "      <td>4</td>\n",
       "      <td>(3) Urban</td>\n",
       "    </tr>\n",
       "    <tr>\n",
       "      <th>73</th>\n",
       "      <td>20110053</td>\n",
       "      <td>(3) Never true</td>\n",
       "      <td>(3) Never true</td>\n",
       "      <td>(3) Some</td>\n",
       "      <td>(4) Once a month</td>\n",
       "      <td>(2) A few times a week</td>\n",
       "      <td>(2) No</td>\n",
       "      <td>(2) Very good</td>\n",
       "      <td>(2) Yes, I worked as self-employed in my own b...</td>\n",
       "      <td>NaN</td>\n",
       "      <td>...</td>\n",
       "      <td>(1) White, non-Hispanic</td>\n",
       "      <td>$100,000 to under $150,000</td>\n",
       "      <td>(5) Bachelors degree</td>\n",
       "      <td>(2) Two persons</td>\n",
       "      <td>0</td>\n",
       "      <td>0</td>\n",
       "      <td>0</td>\n",
       "      <td>0</td>\n",
       "      <td>2</td>\n",
       "      <td>(3) Urban</td>\n",
       "    </tr>\n",
       "    <tr>\n",
       "      <th>77</th>\n",
       "      <td>20112885</td>\n",
       "      <td>(3) Never true</td>\n",
       "      <td>(3) Never true</td>\n",
       "      <td>(2) Most</td>\n",
       "      <td>(4) Once a month</td>\n",
       "      <td>(1) Basically every day</td>\n",
       "      <td>(1) Yes</td>\n",
       "      <td>(1) Excellent</td>\n",
       "      <td>(3) No, I did not work for pay last week.</td>\n",
       "      <td>NaN</td>\n",
       "      <td>...</td>\n",
       "      <td>(1) White, non-Hispanic</td>\n",
       "      <td>$50,000 to under $75,000</td>\n",
       "      <td>(6) Masters degree</td>\n",
       "      <td>(3) Three persons</td>\n",
       "      <td>1</td>\n",
       "      <td>0</td>\n",
       "      <td>0</td>\n",
       "      <td>0</td>\n",
       "      <td>2</td>\n",
       "      <td>(3) Urban</td>\n",
       "    </tr>\n",
       "  </tbody>\n",
       "</table>\n",
       "<p>5 rows × 47 columns</p>\n",
       "</div>"
      ],
      "text/plain": [
       "       SU_ID            ECON5A_A            ECON5A_B      SOC1  \\\n",
       "7   20009247      (3) Never true      (3) Never true  (3) Some   \n",
       "22  20041071  (2) Sometimes true  (2) Sometimes true  (2) Most   \n",
       "34  20055590      (3) Never true      (3) Never true  (4) None   \n",
       "73  20110053      (3) Never true      (3) Never true  (3) Some   \n",
       "77  20112885      (3) Never true      (3) Never true  (2) Most   \n",
       "\n",
       "                      SOC2A                    SOC3A    SOC4A          PHYS8  \\\n",
       "7   (3) A few times a month  (1) Basically every day   (2) No       (3) Good   \n",
       "22  (3) A few times a month  (1) Basically every day   (2) No       (3) Good   \n",
       "34   (2) A few times a week  (1) Basically every day   (2) No       (3) Good   \n",
       "73         (4) Once a month   (2) A few times a week   (2) No  (2) Very good   \n",
       "77         (4) Once a month  (1) Basically every day  (1) Yes  (1) Excellent   \n",
       "\n",
       "                                                ECON1 ECON2  ...  \\\n",
       "7   (1) Yes, I worked for someone else for wages, ...    40  ...   \n",
       "22  (1) Yes, I worked for someone else for wages, ...    45  ...   \n",
       "34          (3) No, I did not work for pay last week.   NaN  ...   \n",
       "73  (2) Yes, I worked as self-employed in my own b...   NaN  ...   \n",
       "77          (3) No, I did not work for pay last week.   NaN  ...   \n",
       "\n",
       "                     RACETH                    HHINCOME  \\\n",
       "7   (1) White, non-Hispanic            $150,000 or more   \n",
       "22  (2) Black, non-Hispanic   $75,000 to under $100,000   \n",
       "34  (1) White, non-Hispanic  $100,000 to under $150,000   \n",
       "73  (1) White, non-Hispanic  $100,000 to under $150,000   \n",
       "77  (1) White, non-Hispanic    $50,000 to under $75,000   \n",
       "\n",
       "                      EDUCATION            HHSIZE1 HH01S HH25S HH612S HH1317S  \\\n",
       "7          (5) Bachelors degree    (2) Two persons     0     0      0       0   \n",
       "22  (3) Some college, no degree  (3) Three persons     0     0      0       1   \n",
       "34  (3) Some college, no degree   (5) Five persons     0     0      0       1   \n",
       "73         (5) Bachelors degree    (2) Two persons     0     0      0       0   \n",
       "77           (6) Masters degree  (3) Three persons     1     0      0       0   \n",
       "\n",
       "   HH18OVS    P_DENSE  \n",
       "7        2  (3) Urban  \n",
       "22       2  (3) Urban  \n",
       "34       4  (3) Urban  \n",
       "73       2  (3) Urban  \n",
       "77       2  (3) Urban  \n",
       "\n",
       "[5 rows x 47 columns]"
      ]
     },
     "execution_count": 5,
     "metadata": {},
     "output_type": "execute_result"
    }
   ],
   "source": [
    "#nonresponse replacement for entire dataframe\n",
    "week1_chi.replace(to_replace = NONRESPONSES, value = np.nan, inplace = True)\n",
    "week1_chi.head()"
   ]
  },
  {
   "cell_type": "code",
   "execution_count": 6,
   "metadata": {},
   "outputs": [
    {
     "data": {
      "text/plain": [
       "6564    $100,000 to under $150,000\n",
       "6568                           NaN\n",
       "6581     $75,000 to under $100,000\n",
       "6583      $50,000 to under $75,000\n",
       "6596      $50,000 to under $75,000\n",
       "Name: HHINCOME, dtype: object"
      ]
     },
     "execution_count": 6,
     "metadata": {},
     "output_type": "execute_result"
    }
   ],
   "source": [
    "#nonresponse replacement for HHINCOME\n",
    "week1_chi['HHINCOME'].replace(to_replace=HHINC_NONRESP, value = np.nan, inplace = True)\n",
    "week1_chi['HHINCOME'].tail()"
   ]
  },
  {
   "cell_type": "code",
   "execution_count": 7,
   "metadata": {},
   "outputs": [
    {
     "data": {
      "text/plain": [
       "array([2, 3, 5, 1, 6, 4], dtype=int64)"
      ]
     },
     "execution_count": 7,
     "metadata": {},
     "output_type": "execute_result"
    }
   ],
   "source": [
    "#type conversions\n",
    "#first we deal with hhsize\n",
    "hhsize_repl_dict = {\n",
    "    \"(1) One person, I live by myself\": 1,\n",
    "    \"(2) Two persons\": 2,\n",
    "    \"(3) Three persons\": 3,\n",
    "    \"(4) Four persons\": 4,\n",
    "    \"(5) Five persons\": 5,\n",
    "    \"(6) Six or more persons\" : 6\n",
    "}\n",
    "week1_chi['HHSIZE1'].replace(to_replace=hhsize_repl_dict, inplace = True)\n",
    "week1_chi['HHSIZE1'].unique()"
   ]
  },
  {
   "cell_type": "code",
   "execution_count": 8,
   "metadata": {},
   "outputs": [
    {
     "name": "stdout",
     "output_type": "stream",
     "text": [
      "NULL VALUE REPORT\n",
      "SU_ID          0\n",
      "ECON5A_A       3\n",
      "ECON5A_B       3\n",
      "SOC1           3\n",
      "SOC2A          0\n",
      "SOC3A          3\n",
      "SOC4A          0\n",
      "PHYS8          1\n",
      "ECON1          6\n",
      "ECON2        257\n",
      "ECON3         20\n",
      "ECON4A        10\n",
      "ECON4B        12\n",
      "ECON6A         6\n",
      "ECON6B         7\n",
      "ECON6C        11\n",
      "ECON6D         8\n",
      "ECON6E         6\n",
      "ECON6F         8\n",
      "ECON6G         6\n",
      "ECON6H         7\n",
      "ECON6I         7\n",
      "ECON6J         6\n",
      "ECON6K         7\n",
      "ECON6L         8\n",
      "PHYS9A         9\n",
      "PHYS9B        29\n",
      "PHYS9C        39\n",
      "PHYS9D        28\n",
      "PHYS9E         7\n",
      "PHYS9F        18\n",
      "PHYS9G        21\n",
      "PHYS9H         9\n",
      "PHYS5          5\n",
      "PHYS6          3\n",
      "AGE7           0\n",
      "GENDER         0\n",
      "RACETH         0\n",
      "HHINCOME      21\n",
      "EDUCATION      0\n",
      "HHSIZE1        0\n",
      "HH01S          0\n",
      "HH25S          0\n",
      "HH612S         0\n",
      "HH1317S        0\n",
      "HH18OVS        0\n",
      "P_DENSE        0\n",
      "dtype: int64\n"
     ]
    }
   ],
   "source": [
    "#null value analysis\n",
    "#almost every variable has null values\n",
    "print(\"NULL VALUE REPORT\")\n",
    "print(week1_chi.isna().sum())"
   ]
  },
  {
   "cell_type": "code",
   "execution_count": 9,
   "metadata": {},
   "outputs": [
    {
     "data": {
      "text/plain": [
       "(144, 47)"
      ]
     },
     "execution_count": 9,
     "metadata": {},
     "output_type": "execute_result"
    }
   ],
   "source": [
    "#if we remove all the records with nulls in them we'd be left with 144 rows only\n",
    "week1_chi.dropna().shape"
   ]
  },
  {
   "cell_type": "code",
   "execution_count": 10,
   "metadata": {},
   "outputs": [
    {
     "data": {
      "text/plain": [
       "0.665893271461717"
      ]
     },
     "execution_count": 10,
     "metadata": {},
     "output_type": "execute_result"
    }
   ],
   "source": [
    "#this leads to 66% of records being dropped\n",
    "1 - week1_chi.dropna().shape[0]/week1_chi.shape[0]"
   ]
  },
  {
   "cell_type": "code",
   "execution_count": 11,
   "metadata": {},
   "outputs": [],
   "source": [
    "#econ2 has 257 values missing; that's 60% of the data. \n",
    "#it doesn't make sense to impute a value into 60% of the data using only 40%\n",
    "week1_chi.drop(['ECON2'], axis = 1, inplace = True)"
   ]
  },
  {
   "cell_type": "code",
   "execution_count": 12,
   "metadata": {},
   "outputs": [
    {
     "data": {
      "text/plain": [
       "0.2621809744779582"
      ]
     },
     "execution_count": 12,
     "metadata": {},
     "output_type": "execute_result"
    }
   ],
   "source": [
    "#now we only drop only 26% of records\n",
    "1 - week1_chi.dropna().shape[0]/431"
   ]
  },
  {
   "cell_type": "code",
   "execution_count": 13,
   "metadata": {},
   "outputs": [
    {
     "data": {
      "text/plain": [
       "33"
      ]
     },
     "execution_count": 13,
     "metadata": {},
     "output_type": "execute_result"
    }
   ],
   "source": [
    "missing_vars = [\n",
    "    'ECON5A_A', 'ECON5A_B',\n",
    "    'SOC1', 'SOC3A',\n",
    "    'PHYS8',\n",
    "    'ECON1', 'ECON3',\n",
    "    'ECON4A', 'ECON4B',\n",
    "    'ECON6A', 'ECON6B', 'ECON6C', 'ECON6D', 'ECON6E', 'ECON6F', 'ECON6G', 'ECON6H', 'ECON6I', 'ECON6J', 'ECON6K', 'ECON6L',\n",
    "    'PHYS9A', 'PHYS9B', 'PHYS9C', 'PHYS9D', 'PHYS9E', 'PHYS9F', 'PHYS9G', 'PHYS9H', 'PHYS5', 'PHYS6',\n",
    "    'AGE7', 'HHINCOME']\n",
    "    \n",
    "#we need to impute missing values for 33 variables\n",
    "len(missing_vars)"
   ]
  },
  {
   "cell_type": "code",
   "execution_count": 14,
   "metadata": {},
   "outputs": [
    {
     "data": {
      "text/plain": [
       "SU_ID        0\n",
       "ECON5A_A     0\n",
       "ECON5A_B     0\n",
       "SOC1         0\n",
       "SOC2A        0\n",
       "SOC3A        0\n",
       "SOC4A        0\n",
       "PHYS8        0\n",
       "ECON1        0\n",
       "ECON3        0\n",
       "ECON4A       0\n",
       "ECON4B       0\n",
       "ECON6A       0\n",
       "ECON6B       0\n",
       "ECON6C       0\n",
       "ECON6D       0\n",
       "ECON6E       0\n",
       "ECON6F       0\n",
       "ECON6G       0\n",
       "ECON6H       0\n",
       "ECON6I       0\n",
       "ECON6J       0\n",
       "ECON6K       0\n",
       "ECON6L       0\n",
       "PHYS9A       0\n",
       "PHYS9B       0\n",
       "PHYS9C       0\n",
       "PHYS9D       0\n",
       "PHYS9E       0\n",
       "PHYS9F       0\n",
       "PHYS9G       0\n",
       "PHYS9H       0\n",
       "PHYS5        0\n",
       "PHYS6        0\n",
       "AGE7         0\n",
       "GENDER       0\n",
       "RACETH       0\n",
       "HHINCOME     0\n",
       "EDUCATION    0\n",
       "HHSIZE1      0\n",
       "HH01S        0\n",
       "HH25S        0\n",
       "HH612S       0\n",
       "HH1317S      0\n",
       "HH18OVS      0\n",
       "P_DENSE      0\n",
       "dtype: int64"
      ]
     },
     "execution_count": 14,
     "metadata": {},
     "output_type": "execute_result"
    }
   ],
   "source": [
    "#KS - use more advanced forms of imputation (cluster based imputation)\n",
    "\n",
    "\n",
    "def impute_val(df, col_names, imp_type = 'median'):\n",
    "    df_copy = df.copy(deep = True)\n",
    "    for col_name in col_names:\n",
    "        if type(df.iloc[0][col_name]) == str:\n",
    "            mode = df[col_name].mode().values[0]\n",
    "            df_copy[col_name].replace(np.nan, mode, inplace = True)\n",
    "        if type(df.iloc[0][col_name]) == float or type(df.iloc[0][col_name]) == int:\n",
    "            if imp_type == 'median':\n",
    "                imp_val = df[col_name].median()\n",
    "            elif imp_type == 'mean':\n",
    "                imp_val = df[col_name].mean()\n",
    "            df_copy[col_name].replace(np.nan, imp_val, inplace = True)\n",
    "    return df_copy\n",
    "            \n",
    "        \n",
    "week1_chi = impute_val(week1_chi, missing_vars, 'median')#.isna().sum()\n",
    "week1_chi.isna().sum()"
   ]
  },
  {
   "cell_type": "code",
   "execution_count": 15,
   "metadata": {},
   "outputs": [
    {
     "data": {
      "text/plain": [
       "<matplotlib.axes._subplots.AxesSubplot at 0x1c3a788ea60>"
      ]
     },
     "execution_count": 15,
     "metadata": {},
     "output_type": "execute_result"
    },
    {
     "data": {
      "image/png": "[encoded data removed]",
      "text/plain": [
       "<Figure size 432x288 with 1 Axes>"
      ]
     },
     "metadata": {
      "needs_background": "light"
     },
     "output_type": "display_data"
    }
   ],
   "source": [
    "#we now have a modelling ready dataset ready; let's look at the food insecurity question A response dist one last time\n",
    "#responses are imbalanced\n",
    "sns.countplot(week1_chi['ECON5A_A'])"
   ]
  },
  {
   "cell_type": "code",
   "execution_count": 16,
   "metadata": {},
   "outputs": [
    {
     "data": {
      "text/plain": [
       "<matplotlib.axes._subplots.AxesSubplot at 0x1c3ab90a670>"
      ]
     },
     "execution_count": 16,
     "metadata": {},
     "output_type": "execute_result"
    },
    {
     "data": {
      "image/png": "[encoded data removed]",
      "text/plain": [
       "<Figure size 432x288 with 1 Axes>"
      ]
     },
     "metadata": {
      "needs_background": "light"
     },
     "output_type": "display_data"
    }
   ],
   "source": [
    "#let's look at the food insecurity question B response dist; responses are imbalanced\n",
    "sns.countplot(week1_chi['ECON5A_B'])"
   ]
  },
  {
   "cell_type": "code",
   "execution_count": 17,
   "metadata": {},
   "outputs": [
    {
     "data": {
      "text/html": [
       "<div>\n",
       "<style scoped>\n",
       "    .dataframe tbody tr th:only-of-type {\n",
       "        vertical-align: middle;\n",
       "    }\n",
       "\n",
       "    .dataframe tbody tr th {\n",
       "        vertical-align: top;\n",
       "    }\n",
       "\n",
       "    .dataframe thead th {\n",
       "        text-align: right;\n",
       "    }\n",
       "</style>\n",
       "<table border=\"1\" class=\"dataframe\">\n",
       "  <thead>\n",
       "    <tr style=\"text-align: right;\">\n",
       "      <th></th>\n",
       "      <th>SU_ID</th>\n",
       "      <th>ECON5A_A</th>\n",
       "      <th>ECON5A_B</th>\n",
       "      <th>SOC1</th>\n",
       "      <th>SOC2A</th>\n",
       "      <th>SOC3A</th>\n",
       "      <th>SOC4A</th>\n",
       "      <th>PHYS8</th>\n",
       "      <th>ECON1</th>\n",
       "      <th>ECON3</th>\n",
       "      <th>...</th>\n",
       "      <th>HHINCOME</th>\n",
       "      <th>EDUCATION</th>\n",
       "      <th>HHSIZE1</th>\n",
       "      <th>HH01S</th>\n",
       "      <th>HH25S</th>\n",
       "      <th>HH612S</th>\n",
       "      <th>HH1317S</th>\n",
       "      <th>HH18OVS</th>\n",
       "      <th>P_DENSE</th>\n",
       "      <th>food_insec</th>\n",
       "    </tr>\n",
       "  </thead>\n",
       "  <tbody>\n",
       "    <tr>\n",
       "      <th>7</th>\n",
       "      <td>20009247</td>\n",
       "      <td>(3) Never true</td>\n",
       "      <td>(3) Never true</td>\n",
       "      <td>(3) Some</td>\n",
       "      <td>(3) A few times a month</td>\n",
       "      <td>(1) Basically every day</td>\n",
       "      <td>(2) No</td>\n",
       "      <td>(3) Good</td>\n",
       "      <td>(1) Yes, I worked for someone else for wages, ...</td>\n",
       "      <td>40</td>\n",
       "      <td>...</td>\n",
       "      <td>$150,000 or more</td>\n",
       "      <td>(5) Bachelors degree</td>\n",
       "      <td>2</td>\n",
       "      <td>0</td>\n",
       "      <td>0</td>\n",
       "      <td>0</td>\n",
       "      <td>0</td>\n",
       "      <td>2</td>\n",
       "      <td>(3) Urban</td>\n",
       "      <td>False</td>\n",
       "    </tr>\n",
       "    <tr>\n",
       "      <th>22</th>\n",
       "      <td>20041071</td>\n",
       "      <td>(2) Sometimes true</td>\n",
       "      <td>(2) Sometimes true</td>\n",
       "      <td>(2) Most</td>\n",
       "      <td>(3) A few times a month</td>\n",
       "      <td>(1) Basically every day</td>\n",
       "      <td>(2) No</td>\n",
       "      <td>(3) Good</td>\n",
       "      <td>(1) Yes, I worked for someone else for wages, ...</td>\n",
       "      <td>45</td>\n",
       "      <td>...</td>\n",
       "      <td>$75,000 to under $100,000</td>\n",
       "      <td>(3) Some college, no degree</td>\n",
       "      <td>3</td>\n",
       "      <td>0</td>\n",
       "      <td>0</td>\n",
       "      <td>0</td>\n",
       "      <td>1</td>\n",
       "      <td>2</td>\n",
       "      <td>(3) Urban</td>\n",
       "      <td>True</td>\n",
       "    </tr>\n",
       "    <tr>\n",
       "      <th>34</th>\n",
       "      <td>20055590</td>\n",
       "      <td>(3) Never true</td>\n",
       "      <td>(3) Never true</td>\n",
       "      <td>(4) None</td>\n",
       "      <td>(2) A few times a week</td>\n",
       "      <td>(1) Basically every day</td>\n",
       "      <td>(2) No</td>\n",
       "      <td>(3) Good</td>\n",
       "      <td>(3) No, I did not work for pay last week.</td>\n",
       "      <td>23</td>\n",
       "      <td>...</td>\n",
       "      <td>$100,000 to under $150,000</td>\n",
       "      <td>(3) Some college, no degree</td>\n",
       "      <td>5</td>\n",
       "      <td>0</td>\n",
       "      <td>0</td>\n",
       "      <td>0</td>\n",
       "      <td>1</td>\n",
       "      <td>4</td>\n",
       "      <td>(3) Urban</td>\n",
       "      <td>False</td>\n",
       "    </tr>\n",
       "    <tr>\n",
       "      <th>73</th>\n",
       "      <td>20110053</td>\n",
       "      <td>(3) Never true</td>\n",
       "      <td>(3) Never true</td>\n",
       "      <td>(3) Some</td>\n",
       "      <td>(4) Once a month</td>\n",
       "      <td>(2) A few times a week</td>\n",
       "      <td>(2) No</td>\n",
       "      <td>(2) Very good</td>\n",
       "      <td>(2) Yes, I worked as self-employed in my own b...</td>\n",
       "      <td>40</td>\n",
       "      <td>...</td>\n",
       "      <td>$100,000 to under $150,000</td>\n",
       "      <td>(5) Bachelors degree</td>\n",
       "      <td>2</td>\n",
       "      <td>0</td>\n",
       "      <td>0</td>\n",
       "      <td>0</td>\n",
       "      <td>0</td>\n",
       "      <td>2</td>\n",
       "      <td>(3) Urban</td>\n",
       "      <td>False</td>\n",
       "    </tr>\n",
       "    <tr>\n",
       "      <th>77</th>\n",
       "      <td>20112885</td>\n",
       "      <td>(3) Never true</td>\n",
       "      <td>(3) Never true</td>\n",
       "      <td>(2) Most</td>\n",
       "      <td>(4) Once a month</td>\n",
       "      <td>(1) Basically every day</td>\n",
       "      <td>(1) Yes</td>\n",
       "      <td>(1) Excellent</td>\n",
       "      <td>(3) No, I did not work for pay last week.</td>\n",
       "      <td>80</td>\n",
       "      <td>...</td>\n",
       "      <td>$50,000 to under $75,000</td>\n",
       "      <td>(6) Masters degree</td>\n",
       "      <td>3</td>\n",
       "      <td>1</td>\n",
       "      <td>0</td>\n",
       "      <td>0</td>\n",
       "      <td>0</td>\n",
       "      <td>2</td>\n",
       "      <td>(3) Urban</td>\n",
       "      <td>False</td>\n",
       "    </tr>\n",
       "    <tr>\n",
       "      <th>...</th>\n",
       "      <td>...</td>\n",
       "      <td>...</td>\n",
       "      <td>...</td>\n",
       "      <td>...</td>\n",
       "      <td>...</td>\n",
       "      <td>...</td>\n",
       "      <td>...</td>\n",
       "      <td>...</td>\n",
       "      <td>...</td>\n",
       "      <td>...</td>\n",
       "      <td>...</td>\n",
       "      <td>...</td>\n",
       "      <td>...</td>\n",
       "      <td>...</td>\n",
       "      <td>...</td>\n",
       "      <td>...</td>\n",
       "      <td>...</td>\n",
       "      <td>...</td>\n",
       "      <td>...</td>\n",
       "      <td>...</td>\n",
       "      <td>...</td>\n",
       "    </tr>\n",
       "    <tr>\n",
       "      <th>6564</th>\n",
       "      <td>29951872</td>\n",
       "      <td>(3) Never true</td>\n",
       "      <td>(3) Never true</td>\n",
       "      <td>(3) Some</td>\n",
       "      <td>(4) Once a month</td>\n",
       "      <td>(1) Basically every day</td>\n",
       "      <td>(1) Yes</td>\n",
       "      <td>(2) Very good</td>\n",
       "      <td>(1) Yes, I worked for someone else for wages, ...</td>\n",
       "      <td>30</td>\n",
       "      <td>...</td>\n",
       "      <td>$100,000 to under $150,000</td>\n",
       "      <td>(3) Some college, no degree</td>\n",
       "      <td>3</td>\n",
       "      <td>0</td>\n",
       "      <td>0</td>\n",
       "      <td>0</td>\n",
       "      <td>0</td>\n",
       "      <td>3</td>\n",
       "      <td>(3) Urban</td>\n",
       "      <td>False</td>\n",
       "    </tr>\n",
       "    <tr>\n",
       "      <th>6568</th>\n",
       "      <td>29956649</td>\n",
       "      <td>(3) Never true</td>\n",
       "      <td>(3) Never true</td>\n",
       "      <td>(3) Some</td>\n",
       "      <td>(4) Once a month</td>\n",
       "      <td>(2) A few times a week</td>\n",
       "      <td>(2) No</td>\n",
       "      <td>(1) Excellent</td>\n",
       "      <td>(3) No, I did not work for pay last week.</td>\n",
       "      <td>0</td>\n",
       "      <td>...</td>\n",
       "      <td>$50,000 to under $75,000</td>\n",
       "      <td>(4) Associate degree</td>\n",
       "      <td>1</td>\n",
       "      <td>0</td>\n",
       "      <td>0</td>\n",
       "      <td>0</td>\n",
       "      <td>0</td>\n",
       "      <td>1</td>\n",
       "      <td>(3) Urban</td>\n",
       "      <td>False</td>\n",
       "    </tr>\n",
       "    <tr>\n",
       "      <th>6581</th>\n",
       "      <td>29972480</td>\n",
       "      <td>(3) Never true</td>\n",
       "      <td>(3) Never true</td>\n",
       "      <td>(3) Some</td>\n",
       "      <td>(2) A few times a week</td>\n",
       "      <td>(3) A few times a month</td>\n",
       "      <td>(2) No</td>\n",
       "      <td>(3) Good</td>\n",
       "      <td>(1) Yes, I worked for someone else for wages, ...</td>\n",
       "      <td>40</td>\n",
       "      <td>...</td>\n",
       "      <td>$75,000 to under $100,000</td>\n",
       "      <td>(3) Some college, no degree</td>\n",
       "      <td>2</td>\n",
       "      <td>0</td>\n",
       "      <td>0</td>\n",
       "      <td>0</td>\n",
       "      <td>0</td>\n",
       "      <td>2</td>\n",
       "      <td>(3) Urban</td>\n",
       "      <td>False</td>\n",
       "    </tr>\n",
       "    <tr>\n",
       "      <th>6583</th>\n",
       "      <td>29975637</td>\n",
       "      <td>(3) Never true</td>\n",
       "      <td>(3) Never true</td>\n",
       "      <td>(2) Most</td>\n",
       "      <td>(5) Not at all</td>\n",
       "      <td>(2) A few times a week</td>\n",
       "      <td>(2) No</td>\n",
       "      <td>(3) Good</td>\n",
       "      <td>(3) No, I did not work for pay last week.</td>\n",
       "      <td>0</td>\n",
       "      <td>...</td>\n",
       "      <td>$50,000 to under $75,000</td>\n",
       "      <td>(2) HIGH SCHOOL GRADUATE - high school DIPLOMA...</td>\n",
       "      <td>2</td>\n",
       "      <td>0</td>\n",
       "      <td>0</td>\n",
       "      <td>0</td>\n",
       "      <td>0</td>\n",
       "      <td>2</td>\n",
       "      <td>(2) Suburban</td>\n",
       "      <td>False</td>\n",
       "    </tr>\n",
       "    <tr>\n",
       "      <th>6596</th>\n",
       "      <td>29997329</td>\n",
       "      <td>(3) Never true</td>\n",
       "      <td>(3) Never true</td>\n",
       "      <td>(2) Most</td>\n",
       "      <td>(2) A few times a week</td>\n",
       "      <td>(1) Basically every day</td>\n",
       "      <td>(1) Yes</td>\n",
       "      <td>(2) Very good</td>\n",
       "      <td>(3) No, I did not work for pay last week.</td>\n",
       "      <td>0</td>\n",
       "      <td>...</td>\n",
       "      <td>$50,000 to under $75,000</td>\n",
       "      <td>(2) HIGH SCHOOL GRADUATE - high school DIPLOMA...</td>\n",
       "      <td>1</td>\n",
       "      <td>0</td>\n",
       "      <td>0</td>\n",
       "      <td>0</td>\n",
       "      <td>0</td>\n",
       "      <td>1</td>\n",
       "      <td>(3) Urban</td>\n",
       "      <td>False</td>\n",
       "    </tr>\n",
       "  </tbody>\n",
       "</table>\n",
       "<p>431 rows × 47 columns</p>\n",
       "</div>"
      ],
      "text/plain": [
       "         SU_ID            ECON5A_A            ECON5A_B      SOC1  \\\n",
       "7     20009247      (3) Never true      (3) Never true  (3) Some   \n",
       "22    20041071  (2) Sometimes true  (2) Sometimes true  (2) Most   \n",
       "34    20055590      (3) Never true      (3) Never true  (4) None   \n",
       "73    20110053      (3) Never true      (3) Never true  (3) Some   \n",
       "77    20112885      (3) Never true      (3) Never true  (2) Most   \n",
       "...        ...                 ...                 ...       ...   \n",
       "6564  29951872      (3) Never true      (3) Never true  (3) Some   \n",
       "6568  29956649      (3) Never true      (3) Never true  (3) Some   \n",
       "6581  29972480      (3) Never true      (3) Never true  (3) Some   \n",
       "6583  29975637      (3) Never true      (3) Never true  (2) Most   \n",
       "6596  29997329      (3) Never true      (3) Never true  (2) Most   \n",
       "\n",
       "                        SOC2A                    SOC3A    SOC4A  \\\n",
       "7     (3) A few times a month  (1) Basically every day   (2) No   \n",
       "22    (3) A few times a month  (1) Basically every day   (2) No   \n",
       "34     (2) A few times a week  (1) Basically every day   (2) No   \n",
       "73           (4) Once a month   (2) A few times a week   (2) No   \n",
       "77           (4) Once a month  (1) Basically every day  (1) Yes   \n",
       "...                       ...                      ...      ...   \n",
       "6564         (4) Once a month  (1) Basically every day  (1) Yes   \n",
       "6568         (4) Once a month   (2) A few times a week   (2) No   \n",
       "6581   (2) A few times a week  (3) A few times a month   (2) No   \n",
       "6583           (5) Not at all   (2) A few times a week   (2) No   \n",
       "6596   (2) A few times a week  (1) Basically every day  (1) Yes   \n",
       "\n",
       "              PHYS8                                              ECON1 ECON3  \\\n",
       "7          (3) Good  (1) Yes, I worked for someone else for wages, ...    40   \n",
       "22         (3) Good  (1) Yes, I worked for someone else for wages, ...    45   \n",
       "34         (3) Good          (3) No, I did not work for pay last week.    23   \n",
       "73    (2) Very good  (2) Yes, I worked as self-employed in my own b...    40   \n",
       "77    (1) Excellent          (3) No, I did not work for pay last week.    80   \n",
       "...             ...                                                ...   ...   \n",
       "6564  (2) Very good  (1) Yes, I worked for someone else for wages, ...    30   \n",
       "6568  (1) Excellent          (3) No, I did not work for pay last week.     0   \n",
       "6581       (3) Good  (1) Yes, I worked for someone else for wages, ...    40   \n",
       "6583       (3) Good          (3) No, I did not work for pay last week.     0   \n",
       "6596  (2) Very good          (3) No, I did not work for pay last week.     0   \n",
       "\n",
       "      ...                    HHINCOME  \\\n",
       "7     ...            $150,000 or more   \n",
       "22    ...   $75,000 to under $100,000   \n",
       "34    ...  $100,000 to under $150,000   \n",
       "73    ...  $100,000 to under $150,000   \n",
       "77    ...    $50,000 to under $75,000   \n",
       "...   ...                         ...   \n",
       "6564  ...  $100,000 to under $150,000   \n",
       "6568  ...    $50,000 to under $75,000   \n",
       "6581  ...   $75,000 to under $100,000   \n",
       "6583  ...    $50,000 to under $75,000   \n",
       "6596  ...    $50,000 to under $75,000   \n",
       "\n",
       "                                              EDUCATION HHSIZE1 HH01S HH25S  \\\n",
       "7                                  (5) Bachelors degree       2     0     0   \n",
       "22                          (3) Some college, no degree       3     0     0   \n",
       "34                          (3) Some college, no degree       5     0     0   \n",
       "73                                 (5) Bachelors degree       2     0     0   \n",
       "77                                   (6) Masters degree       3     1     0   \n",
       "...                                                 ...     ...   ...   ...   \n",
       "6564                        (3) Some college, no degree       3     0     0   \n",
       "6568                               (4) Associate degree       1     0     0   \n",
       "6581                        (3) Some college, no degree       2     0     0   \n",
       "6583  (2) HIGH SCHOOL GRADUATE - high school DIPLOMA...       2     0     0   \n",
       "6596  (2) HIGH SCHOOL GRADUATE - high school DIPLOMA...       1     0     0   \n",
       "\n",
       "     HH612S HH1317S HH18OVS       P_DENSE food_insec  \n",
       "7         0       0       2     (3) Urban      False  \n",
       "22        0       1       2     (3) Urban       True  \n",
       "34        0       1       4     (3) Urban      False  \n",
       "73        0       0       2     (3) Urban      False  \n",
       "77        0       0       2     (3) Urban      False  \n",
       "...     ...     ...     ...           ...        ...  \n",
       "6564      0       0       3     (3) Urban      False  \n",
       "6568      0       0       1     (3) Urban      False  \n",
       "6581      0       0       2     (3) Urban      False  \n",
       "6583      0       0       2  (2) Suburban      False  \n",
       "6596      0       0       1     (3) Urban      False  \n",
       "\n",
       "[431 rows x 47 columns]"
      ]
     },
     "execution_count": 17,
     "metadata": {},
     "output_type": "execute_result"
    }
   ],
   "source": [
    "#we need to form a final dependent variable detecting food insecurity\n",
    "food_insec = []\n",
    "for (respA, respB) in zip(week1_chi['ECON5A_A'].values, week1_chi['ECON5A_B'].values):\n",
    "    measA = False\n",
    "    measB = False\n",
    "    if respA == \"(2) Sometimes true\" or respA ==\"(1) Often true\":\n",
    "        measA = True\n",
    "    if respB == \"(2) Sometimes true\" or respB == \"(1) Often true\":\n",
    "        measB = True\n",
    "    food_insec.append(measA or measB)\n",
    "week1_chi['food_insec'] = food_insec\n",
    "week1_chi"
   ]
  },
  {
   "cell_type": "code",
   "execution_count": 18,
   "metadata": {},
   "outputs": [
    {
     "data": {
      "text/plain": [
       "<matplotlib.axes._subplots.AxesSubplot at 0x1c3ab31cb50>"
      ]
     },
     "execution_count": 18,
     "metadata": {},
     "output_type": "execute_result"
    },
    {
     "data": {
      "image/png": "[encoded data removed]",
      "text/plain": [
       "<Figure size 432x288 with 1 Axes>"
      ]
     },
     "metadata": {
      "needs_background": "light"
     },
     "output_type": "display_data"
    }
   ],
   "source": [
    "#let's look at the dist of the food insec dependent var; it's still imbalanced; but better off than before\n",
    "sns.countplot(week1_chi['food_insec'])"
   ]
  },
  {
   "cell_type": "code",
   "execution_count": 19,
   "metadata": {},
   "outputs": [
    {
     "data": {
      "text/plain": [
       "False    0.805104\n",
       "True     0.194896\n",
       "Name: food_insec, dtype: float64"
      ]
     },
     "execution_count": 19,
     "metadata": {},
     "output_type": "execute_result"
    }
   ],
   "source": [
    "#the balance is 80-20; it's doesn't require rebalancing\n",
    "week1_chi['food_insec'].value_counts(normalize = True)"
   ]
  },
  {
   "cell_type": "code",
   "execution_count": 26,
   "metadata": {},
   "outputs": [
    {
     "data": {
      "text/plain": [
       "array(['(3) Some', '(2) Most', '(4) None', '(1) All'], dtype=object)"
      ]
     },
     "execution_count": 26,
     "metadata": {},
     "output_type": "execute_result"
    }
   ],
   "source": [
    "week1_chi['SOC1'].unique()"
   ]
  },
  {
   "cell_type": "code",
   "execution_count": 20,
   "metadata": {},
   "outputs": [],
   "source": [
    "#persist the data\n",
    "week1_chi.to_csv('../Data/COVID Impact Survey/cis_proc_data/cis_week1_proc.csv')"
   ]
  }
 ],
 "metadata": {
  "kernelspec": {
   "display_name": "Python 3",
   "language": "python",
   "name": "python3"
  },
  "language_info": {
   "codemirror_mode": {
    "name": "ipython",
    "version": 3
   },
   "file_extension": ".py",
   "mimetype": "text/x-python",
   "name": "python",
   "nbconvert_exporter": "python",
   "pygments_lexer": "ipython3",
   "version": "3.8.3"
  },
  "toc": {
   "base_numbering": 1,
   "nav_menu": {},
   "number_sections": true,
   "sideBar": true,
   "skip_h1_title": false,
   "title_cell": "Table of Contents",
   "title_sidebar": "Contents",
   "toc_cell": false,
   "toc_position": {},
   "toc_section_display": true,
   "toc_window_display": false
  }
 },
 "nbformat": 4,
 "nbformat_minor": 4
}
